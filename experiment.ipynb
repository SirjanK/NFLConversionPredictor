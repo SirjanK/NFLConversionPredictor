{
 "cells": [
  {
   "cell_type": "markdown",
   "metadata": {
    "colab_type": "text",
    "id": "97OHky0k1E71"
   },
   "source": [
    "# 3rd Down Conversion Predictor"
   ]
  },
  {
   "cell_type": "markdown",
   "metadata": {
    "colab_type": "text",
    "id": "qRFZv1pPRMhS"
   },
   "source": [
    "## Import and Setup"
   ]
  },
  {
   "cell_type": "code",
   "execution_count": 1,
   "metadata": {
    "colab": {
     "autoexec": {
      "startup": false,
      "wait_interval": 0
     },
     "base_uri": "https://localhost:8080/",
     "height": 34,
     "output_extras": [
      {
       "item_id": 1
      }
     ]
    },
    "colab_type": "code",
    "collapsed": false,
    "executionInfo": {
     "elapsed": 7544,
     "status": "ok",
     "timestamp": 1521321255437,
     "user": {
      "displayName": "Cody Hsieh",
      "photoUrl": "//lh5.googleusercontent.com/-TVXgOXWEKZc/AAAAAAAAAAI/AAAAAAAAVho/LzQvsfbkb04/s50-c-k-no/photo.jpg",
      "userId": "100759277614198067096"
     },
     "user_tz": 420
    },
    "id": "MvAfxGdd1E75",
    "outputId": "0e5e3363-16ac-43f1-dec6-e842d15aa6a6"
   },
   "outputs": [],
   "source": [
    "import pandas as pd\n",
    "import tensorflow as tf\n",
    "import numpy as np\n",
    "import matplotlib.pyplot as plt\n",
    "\n",
    "#Code for colab comment out if not on colab\n",
    "# from google.colab import files\n",
    "\n",
    "from sklearn.model_selection import train_test_split\n",
    "%matplotlib inline\n",
    "\n",
    "# Check GPU\n",
    "# device_name = tf.test.gpu_device_name()\n",
    "# if device_name != '/device:GPU:0':\n",
    "#   raise SystemError('GPU device not found')\n",
    "# print('Found GPU at: {}'.format(device_name))"
   ]
  },
  {
   "cell_type": "code",
   "execution_count": 2,
   "metadata": {
    "colab": {
     "autoexec": {
      "startup": false,
      "wait_interval": 0
     },
     "base_uri": "https://localhost:8080/",
     "height": 86,
     "output_extras": [
      {
       "item_id": 1
      },
      {
       "item_id": 3
      }
     ],
     "resources": {
      "http://localhost:8080/nbextensions/google.colab/files.js": {
       "data": "Ly8gQ29weXJpZ2h0IDIwMTcgR29vZ2xlIExMQwovLwovLyBMaWNlbnNlZCB1bmRlciB0aGUgQXBhY2hlIExpY2Vuc2UsIFZlcnNpb24gMi4wICh0aGUgIkxpY2Vuc2UiKTsKLy8geW91IG1heSBub3QgdXNlIHRoaXMgZmlsZSBleGNlcHQgaW4gY29tcGxpYW5jZSB3aXRoIHRoZSBMaWNlbnNlLgovLyBZb3UgbWF5IG9idGFpbiBhIGNvcHkgb2YgdGhlIExpY2Vuc2UgYXQKLy8KLy8gICAgICBodHRwOi8vd3d3LmFwYWNoZS5vcmcvbGljZW5zZXMvTElDRU5TRS0yLjAKLy8KLy8gVW5sZXNzIHJlcXVpcmVkIGJ5IGFwcGxpY2FibGUgbGF3IG9yIGFncmVlZCB0byBpbiB3cml0aW5nLCBzb2Z0d2FyZQovLyBkaXN0cmlidXRlZCB1bmRlciB0aGUgTGljZW5zZSBpcyBkaXN0cmlidXRlZCBvbiBhbiAiQVMgSVMiIEJBU0lTLAovLyBXSVRIT1VUIFdBUlJBTlRJRVMgT1IgQ09ORElUSU9OUyBPRiBBTlkgS0lORCwgZWl0aGVyIGV4cHJlc3Mgb3IgaW1wbGllZC4KLy8gU2VlIHRoZSBMaWNlbnNlIGZvciB0aGUgc3BlY2lmaWMgbGFuZ3VhZ2UgZ292ZXJuaW5nIHBlcm1pc3Npb25zIGFuZAovLyBsaW1pdGF0aW9ucyB1bmRlciB0aGUgTGljZW5zZS4KCi8qKgogKiBAZmlsZW92ZXJ2aWV3IEhlbHBlcnMgZm9yIGdvb2dsZS5jb2xhYiBQeXRob24gbW9kdWxlLgogKi8KKGZ1bmN0aW9uKHNjb3BlKSB7CmZ1bmN0aW9uIHNwYW4odGV4dCwgc3R5bGVBdHRyaWJ1dGVzID0ge30pIHsKICBjb25zdCBlbGVtZW50ID0gZG9jdW1lbnQuY3JlYXRlRWxlbWVudCgnc3BhbicpOwogIGVsZW1lbnQudGV4dENvbnRlbnQgPSB0ZXh0OwogIGZvciAoY29uc3Qga2V5IG9mIE9iamVjdC5rZXlzKHN0eWxlQXR0cmlidXRlcykpIHsKICAgIGVsZW1lbnQuc3R5bGVba2V5XSA9IHN0eWxlQXR0cmlidXRlc1trZXldOwogIH0KICByZXR1cm4gZWxlbWVudDsKfQoKLy8gTWF4IG51bWJlciBvZiBieXRlcyB3aGljaCB3aWxsIGJlIHVwbG9hZGVkIGF0IGEgdGltZS4KY29uc3QgTUFYX1BBWUxPQURfU0laRSA9IDEwMCAqIDEwMjQ7Ci8vIE1heCBhbW91bnQgb2YgdGltZSB0byBibG9jayB3YWl0aW5nIGZvciB0aGUgdXNlci4KY29uc3QgRklMRV9DSEFOR0VfVElNRU9VVF9NUyA9IDMwICogMTAwMDsKCmZ1bmN0aW9uIF91cGxvYWRGaWxlcyhpbnB1dElkLCBvdXRwdXRJZCkgewogIGNvbnN0IHN0ZXBzID0gdXBsb2FkRmlsZXNTdGVwKGlucHV0SWQsIG91dHB1dElkKTsKICBjb25zdCBvdXRwdXRFbGVtZW50ID0gZG9jdW1lbnQuZ2V0RWxlbWVudEJ5SWQob3V0cHV0SWQpOwogIC8vIENhY2hlIHN0ZXBzIG9uIHRoZSBvdXRwdXRFbGVtZW50IHRvIG1ha2UgaXQgYXZhaWxhYmxlIGZvciB0aGUgbmV4dCBjYWxsCiAgLy8gdG8gdXBsb2FkRmlsZXNDb250aW51ZSBmcm9tIFB5dGhvbi4KICBvdXRwdXRFbGVtZW50LnN0ZXBzID0gc3RlcHM7CgogIHJldHVybiBfdXBsb2FkRmlsZXNDb250aW51ZShvdXRwdXRJZCk7Cn0KCi8vIFRoaXMgaXMgcm91Z2hseSBhbiBhc3luYyBnZW5lcmF0b3IgKG5vdCBzdXBwb3J0ZWQgaW4gdGhlIGJyb3dzZXIgeWV0KSwKLy8gd2hlcmUgdGhlcmUgYXJlIG11bHRpcGxlIGFzeW5jaHJvbm91cyBzdGVwcyBhbmQgdGhlIFB5dGhvbiBzaWRlIGlzIGdvaW5nCi8vIHRvIHBvbGwgZm9yIGNvbXBsZXRpb24gb2YgZWFjaCBzdGVwLgovLyBUaGlzIHVzZXMgYSBQcm9taXNlIHRvIGJsb2NrIHRoZSBweXRob24gc2lkZSBvbiBjb21wbGV0aW9uIG9mIGVhY2ggc3RlcCwKLy8gdGhlbiBwYXNzZXMgdGhlIHJlc3VsdCBvZiB0aGUgcHJldmlvdXMgc3RlcCBhcyB0aGUgaW5wdXQgdG8gdGhlIG5leHQgc3RlcC4KZnVuY3Rpb24gX3VwbG9hZEZpbGVzQ29udGludWUob3V0cHV0SWQpIHsKICBjb25zdCBvdXRwdXRFbGVtZW50ID0gZG9jdW1lbnQuZ2V0RWxlbWVudEJ5SWQob3V0cHV0SWQpOwogIGNvbnN0IHN0ZXBzID0gb3V0cHV0RWxlbWVudC5zdGVwczsKCiAgY29uc3QgbmV4dCA9IHN0ZXBzLm5leHQob3V0cHV0RWxlbWVudC5sYXN0UHJvbWlzZVZhbHVlKTsKICByZXR1cm4gUHJvbWlzZS5yZXNvbHZlKG5leHQudmFsdWUucHJvbWlzZSkudGhlbigodmFsdWUpID0+IHsKICAgIC8vIENhY2hlIHRoZSBsYXN0IHByb21pc2UgdmFsdWUgdG8gbWFrZSBpdCBhdmFpbGFibGUgdG8gdGhlIG5leHQKICAgIC8vIHN0ZXAgb2YgdGhlIGdlbmVyYXRvci4KICAgIG91dHB1dEVsZW1lbnQubGFzdFByb21pc2VWYWx1ZSA9IHZhbHVlOwogICAgcmV0dXJuIG5leHQudmFsdWUucmVzcG9uc2U7CiAgfSk7Cn0KCi8qKgogKiBHZW5lcmF0b3IgZnVuY3Rpb24gd2hpY2ggaXMgY2FsbGVkIGJldHdlZW4gZWFjaCBhc3luYyBzdGVwIG9mIHRoZSB1cGxvYWQKICogcHJvY2Vzcy4KICogQHBhcmFtIHtzdHJpbmd9IGlucHV0SWQgRWxlbWVudCBJRCBvZiB0aGUgaW5wdXQgZmlsZSBwaWNrZXIgZWxlbWVudC4KICogQHBhcmFtIHtzdHJpbmd9IG91dHB1dElkIEVsZW1lbnQgSUQgb2YgdGhlIG91dHB1dCBkaXNwbGF5LgogKiBAcmV0dXJuIHshSXRlcmFibGU8IU9iamVjdD59IEl0ZXJhYmxlIG9mIG5leHQgc3RlcHMuCiAqLwpmdW5jdGlvbiogdXBsb2FkRmlsZXNTdGVwKGlucHV0SWQsIG91dHB1dElkKSB7CiAgY29uc3QgaW5wdXRFbGVtZW50ID0gZG9jdW1lbnQuZ2V0RWxlbWVudEJ5SWQoaW5wdXRJZCk7CiAgaW5wdXRFbGVtZW50LmRpc2FibGVkID0gZmFsc2U7CgogIGNvbnN0IG91dHB1dEVsZW1lbnQgPSBkb2N1bWVudC5nZXRFbGVtZW50QnlJZChvdXRwdXRJZCk7CiAgb3V0cHV0RWxlbWVudC5pbm5lckhUTUwgPSAnJzsKCiAgY29uc3QgcGlja2VkUHJvbWlzZSA9IG5ldyBQcm9taXNlKChyZXNvbHZlKSA9PiB7CiAgICBpbnB1dEVsZW1lbnQuYWRkRXZlbnRMaXN0ZW5lcignY2hhbmdlJywgKGUpID0+IHsKICAgICAgcmVzb2x2ZShlLnRhcmdldC5maWxlcyk7CiAgICB9KTsKICB9KTsKCiAgY29uc3QgY2FuY2VsID0gZG9jdW1lbnQuY3JlYXRlRWxlbWVudCgnYnV0dG9uJyk7CiAgaW5wdXRFbGVtZW50LnBhcmVudEVsZW1lbnQuYXBwZW5kQ2hpbGQoY2FuY2VsKTsKICBjYW5jZWwudGV4dENvbnRlbnQgPSAnQ2FuY2VsIHVwbG9hZCc7CiAgY29uc3QgY2FuY2VsUHJvbWlzZSA9IG5ldyBQcm9taXNlKChyZXNvbHZlKSA9PiB7CiAgICBjYW5jZWwub25jbGljayA9ICgpID0+IHsKICAgICAgcmVzb2x2ZShudWxsKTsKICAgIH07CiAgfSk7CgogIC8vIENhbmNlbCB1cGxvYWQgaWYgdXNlciBoYXNuJ3QgcGlja2VkIGFueXRoaW5nIGluIHRpbWVvdXQuCiAgY29uc3QgdGltZW91dFByb21pc2UgPSBuZXcgUHJvbWlzZSgocmVzb2x2ZSkgPT4gewogICAgc2V0VGltZW91dCgoKSA9PiB7CiAgICAgIHJlc29sdmUobnVsbCk7CiAgICB9LCBGSUxFX0NIQU5HRV9USU1FT1VUX01TKTsKICB9KTsKCiAgLy8gV2FpdCBmb3IgdGhlIHVzZXIgdG8gcGljayB0aGUgZmlsZXMuCiAgY29uc3QgZmlsZXMgPSB5aWVsZCB7CiAgICBwcm9taXNlOiBQcm9taXNlLnJhY2UoW3BpY2tlZFByb21pc2UsIHRpbWVvdXRQcm9taXNlLCBjYW5jZWxQcm9taXNlXSksCiAgICByZXNwb25zZTogewogICAgICBhY3Rpb246ICdzdGFydGluZycsCiAgICB9CiAgfTsKCiAgaWYgKCFmaWxlcykgewogICAgcmV0dXJuIHsKICAgICAgcmVzcG9uc2U6IHsKICAgICAgICBhY3Rpb246ICdjb21wbGV0ZScsCiAgICAgIH0KICAgIH07CiAgfQoKICBjYW5jZWwucmVtb3ZlKCk7CgogIC8vIERpc2FibGUgdGhlIGlucHV0IGVsZW1lbnQgc2luY2UgZnVydGhlciBwaWNrcyBhcmUgbm90IGFsbG93ZWQuCiAgaW5wdXRFbGVtZW50LmRpc2FibGVkID0gdHJ1ZTsKCiAgZm9yIChjb25zdCBmaWxlIG9mIGZpbGVzKSB7CiAgICBjb25zdCBsaSA9IGRvY3VtZW50LmNyZWF0ZUVsZW1lbnQoJ2xpJyk7CiAgICBsaS5hcHBlbmQoc3BhbihmaWxlLm5hbWUsIHtmb250V2VpZ2h0OiAnYm9sZCd9KSk7CiAgICBsaS5hcHBlbmQoc3BhbigKICAgICAgICBgKCR7ZmlsZS50eXBlIHx8ICduL2EnfSkgLSAke2ZpbGUuc2l6ZX0gYnl0ZXMsIGAgKwogICAgICAgIGBsYXN0IG1vZGlmaWVkOiAkewogICAgICAgICAgICBmaWxlLmxhc3RNb2RpZmllZERhdGUgPyBmaWxlLmxhc3RNb2RpZmllZERhdGUudG9Mb2NhbGVEYXRlU3RyaW5nKCkgOgogICAgICAgICAgICAgICAgICAgICAgICAgICAgICAgICAgICAnbi9hJ30gLSBgKSk7CiAgICBjb25zdCBwZXJjZW50ID0gc3BhbignMCUgZG9uZScpOwogICAgbGkuYXBwZW5kQ2hpbGQocGVyY2VudCk7CgogICAgb3V0cHV0RWxlbWVudC5hcHBlbmRDaGlsZChsaSk7CgogICAgY29uc3QgZmlsZURhdGFQcm9taXNlID0gbmV3IFByb21pc2UoKHJlc29sdmUpID0+IHsKICAgICAgY29uc3QgcmVhZGVyID0gbmV3IEZpbGVSZWFkZXIoKTsKICAgICAgcmVhZGVyLm9ubG9hZCA9IChlKSA9PiB7CiAgICAgICAgcmVzb2x2ZShlLnRhcmdldC5yZXN1bHQpOwogICAgICB9OwogICAgICByZWFkZXIucmVhZEFzQXJyYXlCdWZmZXIoZmlsZSk7CiAgICB9KTsKICAgIC8vIFdhaXQgZm9yIHRoZSBkYXRhIHRvIGJlIHJlYWR5LgogICAgbGV0IGZpbGVEYXRhID0geWllbGQgewogICAgICBwcm9taXNlOiBmaWxlRGF0YVByb21pc2UsCiAgICAgIHJlc3BvbnNlOiB7CiAgICAgICAgYWN0aW9uOiAnY29udGludWUnLAogICAgICB9CiAgICB9OwoKICAgIC8vIFVzZSBhIGNodW5rZWQgc2VuZGluZyB0byBhdm9pZCBtZXNzYWdlIHNpemUgbGltaXRzLiBTZWUgYi82MjExNTY2MC4KICAgIGxldCBwb3NpdGlvbiA9IDA7CiAgICB3aGlsZSAocG9zaXRpb24gPCBmaWxlRGF0YS5ieXRlTGVuZ3RoKSB7CiAgICAgIGNvbnN0IGxlbmd0aCA9IE1hdGgubWluKGZpbGVEYXRhLmJ5dGVMZW5ndGggLSBwb3NpdGlvbiwgTUFYX1BBWUxPQURfU0laRSk7CiAgICAgIGNvbnN0IGNodW5rID0gbmV3IFVpbnQ4QXJyYXkoZmlsZURhdGEsIHBvc2l0aW9uLCBsZW5ndGgpOwogICAgICBwb3NpdGlvbiArPSBsZW5ndGg7CgogICAgICBjb25zdCBiYXNlNjQgPSBidG9hKFN0cmluZy5mcm9tQ2hhckNvZGUuYXBwbHkobnVsbCwgY2h1bmspKTsKICAgICAgeWllbGQgewogICAgICAgIHJlc3BvbnNlOiB7CiAgICAgICAgICBhY3Rpb246ICdhcHBlbmQnLAogICAgICAgICAgZmlsZTogZmlsZS5uYW1lLAogICAgICAgICAgZGF0YTogYmFzZTY0LAogICAgICAgIH0sCiAgICAgIH07CiAgICAgIHBlcmNlbnQudGV4dENvbnRlbnQgPQogICAgICAgICAgYCR7TWF0aC5yb3VuZCgocG9zaXRpb24gLyBmaWxlRGF0YS5ieXRlTGVuZ3RoKSAqIDEwMCl9JSBkb25lYDsKICAgIH0KICB9CgogIC8vIEFsbCBkb25lLgogIHlpZWxkIHsKICAgIHJlc3BvbnNlOiB7CiAgICAgIGFjdGlvbjogJ2NvbXBsZXRlJywKICAgIH0KICB9Owp9CgpzY29wZS5nb29nbGUgPSBzY29wZS5nb29nbGUgfHwge307CnNjb3BlLmdvb2dsZS5jb2xhYiA9IHNjb3BlLmdvb2dsZS5jb2xhYiB8fCB7fTsKc2NvcGUuZ29vZ2xlLmNvbGFiLl9maWxlcyA9IHsKICBfdXBsb2FkRmlsZXMsCiAgX3VwbG9hZEZpbGVzQ29udGludWUsCn07Cn0pKHNlbGYpOwo=",
       "headers": [
        [
         "content-type",
         "application/javascript"
        ]
       ],
       "ok": true,
       "status": 200,
       "status_text": ""
      }
     }
    },
    "colab_type": "code",
    "collapsed": false,
    "executionInfo": {
     "elapsed": 70519,
     "status": "ok",
     "timestamp": 1521321326672,
     "user": {
      "displayName": "Cody Hsieh",
      "photoUrl": "//lh5.googleusercontent.com/-TVXgOXWEKZc/AAAAAAAAAAI/AAAAAAAAVho/LzQvsfbkb04/s50-c-k-no/photo.jpg",
      "userId": "100759277614198067096"
     },
     "user_tz": 420
    },
    "id": "HsoNIhM4GtLd",
    "outputId": "014c32be-cb24-442b-ddb6-72ae6acff0e4"
   },
   "outputs": [],
   "source": [
    "### Code for colab comment out if not on colab\n",
    "# uploaded = files.upload()\n",
    "\n",
    "# for name, data in uploaded.items():\n",
    "#   with open(name, 'wb') as f:\n",
    "#     f.write(data)\n",
    "#     print ('saved file', name)\n",
    "###"
   ]
  },
  {
   "cell_type": "markdown",
   "metadata": {
    "colab_type": "text",
    "id": "-Ke9Ucz-1E74"
   },
   "source": [
    "## Data Preparation"
   ]
  },
  {
   "cell_type": "code",
   "execution_count": 3,
   "metadata": {
    "colab": {
     "autoexec": {
      "startup": false,
      "wait_interval": 0
     }
    },
    "colab_type": "code",
    "collapsed": true,
    "id": "51GUIs_11E7-"
   },
   "outputs": [],
   "source": [
    "# Load data into dataframe\n",
    "data_filepath = \"pbp-2016.csv\"\n",
    "df = pd.read_csv(data_filepath)"
   ]
  },
  {
   "cell_type": "code",
   "execution_count": 4,
   "metadata": {
    "colab": {
     "autoexec": {
      "startup": false,
      "wait_interval": 0
     },
     "base_uri": "https://localhost:8080/",
     "height": 221,
     "output_extras": [
      {
       "item_id": 1
      }
     ]
    },
    "colab_type": "code",
    "collapsed": false,
    "executionInfo": {
     "elapsed": 405,
     "status": "ok",
     "timestamp": 1521321397956,
     "user": {
      "displayName": "Cody Hsieh",
      "photoUrl": "//lh5.googleusercontent.com/-TVXgOXWEKZc/AAAAAAAAAAI/AAAAAAAAVho/LzQvsfbkb04/s50-c-k-no/photo.jpg",
      "userId": "100759277614198067096"
     },
     "user_tz": 420
    },
    "id": "H3U0Klbz1E8F",
    "outputId": "548fa022-5388-4a8e-8d74-5cc32a445d52"
   },
   "outputs": [
    {
     "name": "stdout",
     "output_type": "stream",
     "text": [
      "Index(['GameId', 'GameDate', 'Quarter', 'Minute', 'Second', 'OffenseTeam',\n",
      "       'DefenseTeam', 'Down', 'ToGo', 'YardLine', 'Unnamed: 10',\n",
      "       'SeriesFirstDown', 'Unnamed: 12', 'NextScore', 'Description', 'TeamWin',\n",
      "       'Unnamed: 16', 'Unnamed: 17', 'SeasonYear', 'Yards', 'Formation',\n",
      "       'PlayType', 'IsRush', 'IsPass', 'IsIncomplete', 'IsTouchdown',\n",
      "       'PassType', 'IsSack', 'IsChallenge', 'IsChallengeReversed',\n",
      "       'Challenger', 'IsMeasurement', 'IsInterception', 'IsFumble',\n",
      "       'IsPenalty', 'IsTwoPointConversion', 'IsTwoPointConversionSuccessful',\n",
      "       'RushDirection', 'YardLineFixed', 'YardLineDirection',\n",
      "       'IsPenaltyAccepted', 'PenaltyTeam', 'IsNoPlay', 'PenaltyType',\n",
      "       'PenaltyYards'],\n",
      "      dtype='object')\n"
     ]
    }
   ],
   "source": [
    "# Print available columns from data\n",
    "print(df.columns)"
   ]
  },
  {
   "cell_type": "code",
   "execution_count": 5,
   "metadata": {
    "colab": {
     "autoexec": {
      "startup": false,
      "wait_interval": 0
     }
    },
    "colab_type": "code",
    "collapsed": true,
    "id": "GGglgtSv1E8N"
   },
   "outputs": [],
   "source": [
    "features_to_use = ['Quarter', 'Minute', 'Second', 'OffenseTeam', 'DefenseTeam', 'Down', 'ToGo', 'YardLine', 'Formation', 'PlayType', 'IsRush', 'IsPass', 'Yards', 'PassType']\n"
   ]
  },
  {
   "cell_type": "code",
   "execution_count": 6,
   "metadata": {
    "colab": {
     "autoexec": {
      "startup": false,
      "wait_interval": 0
     }
    },
    "colab_type": "code",
    "collapsed": true,
    "id": "qAS2Bbw91E8R"
   },
   "outputs": [],
   "source": [
    "# Select features\n",
    "df = df[features_to_use]"
   ]
  },
  {
   "cell_type": "code",
   "execution_count": 7,
   "metadata": {
    "colab": {
     "autoexec": {
      "startup": false,
      "wait_interval": 0
     }
    },
    "colab_type": "code",
    "collapsed": true,
    "id": "BmLQp62D1E8U"
   },
   "outputs": [],
   "source": [
    "# Isolate plays to ones that were on 3rd down and converted\n",
    "df = df.loc[df['Down'] == 3]\n",
    "df = df.loc[df['PlayType'].isin(['PASS', 'RUSH', 'SCRAMBLE'])]\n",
    "df['Conversion'] = (df['Yards'] >= df['ToGo']).astype(int)"
   ]
  },
  {
   "cell_type": "code",
   "execution_count": 8,
   "metadata": {
    "colab": {
     "autoexec": {
      "startup": false,
      "wait_interval": 0
     }
    },
    "colab_type": "code",
    "collapsed": true,
    "id": "ynV6SB111E89"
   },
   "outputs": [],
   "source": [
    "raw_matrix = df.values"
   ]
  },
  {
   "cell_type": "code",
   "execution_count": 9,
   "metadata": {
    "colab": {
     "autoexec": {
      "startup": false,
      "wait_interval": 0
     }
    },
    "colab_type": "code",
    "collapsed": true,
    "id": "SnNgcyWI1E9R"
   },
   "outputs": [],
   "source": [
    "# Delete row with strange PassType\n",
    "df = df.loc[df['PassType'] != '(6:41) (SHOTGUN)']"
   ]
  },
  {
   "cell_type": "code",
   "execution_count": 10,
   "metadata": {
    "colab": {
     "autoexec": {
      "startup": false,
      "wait_interval": 0
     },
     "base_uri": "https://localhost:8080/",
     "height": 34,
     "output_extras": [
      {
       "item_id": 1
      }
     ]
    },
    "colab_type": "code",
    "collapsed": false,
    "executionInfo": {
     "elapsed": 655,
     "status": "ok",
     "timestamp": 1521321411273,
     "user": {
      "displayName": "Cody Hsieh",
      "photoUrl": "//lh5.googleusercontent.com/-TVXgOXWEKZc/AAAAAAAAAAI/AAAAAAAAVho/LzQvsfbkb04/s50-c-k-no/photo.jpg",
      "userId": "100759277614198067096"
     },
     "user_tz": 420
    },
    "id": "Z8fKq2tc1E9d",
    "outputId": "a244ebb8-f490-46c0-f538-86377da6bf0b"
   },
   "outputs": [
    {
     "name": "stdout",
     "output_type": "stream",
     "text": [
      "{nan, 'SHORT RIGHT', 'NOT LISTED', 'INTENDED FOR', 'DEEP LEFT', 'SHORT MIDDLE', 'RIGHT. PENALTY', 'DEEP MIDDLE', 'SHORT LEFT', 'DEEP RIGHT'}\n"
     ]
    }
   ],
   "source": [
    "print(set(df['PassType']))"
   ]
  },
  {
   "cell_type": "code",
   "execution_count": 11,
   "metadata": {
    "colab": {
     "autoexec": {
      "startup": false,
      "wait_interval": 0
     }
    },
    "colab_type": "code",
    "collapsed": true,
    "id": "AZWgohAt1E9m"
   },
   "outputs": [],
   "source": [
    "df = df.loc[df['PassType'] != 'RIGHT. PENALTY']"
   ]
  },
  {
   "cell_type": "code",
   "execution_count": 12,
   "metadata": {
    "colab": {
     "autoexec": {
      "startup": false,
      "wait_interval": 0
     }
    },
    "colab_type": "code",
    "collapsed": true,
    "id": "dSEWxMCY1E9t"
   },
   "outputs": [],
   "source": [
    "df = df.loc[df['PassType'] != 'INTENDED FOR']"
   ]
  },
  {
   "cell_type": "code",
   "execution_count": 13,
   "metadata": {
    "colab": {
     "autoexec": {
      "startup": false,
      "wait_interval": 0
     }
    },
    "colab_type": "code",
    "collapsed": true,
    "id": "kWosw_E_1E9x"
   },
   "outputs": [],
   "source": [
    "df = df.loc[df['PassType'] != 'NOT LISTED']"
   ]
  },
  {
   "cell_type": "code",
   "execution_count": 14,
   "metadata": {
    "colab": {
     "autoexec": {
      "startup": false,
      "wait_interval": 0
     }
    },
    "colab_type": "code",
    "collapsed": true,
    "id": "c9K-EBVr1E-D"
   },
   "outputs": [],
   "source": [
    "df = df.loc[df['PassType'].notnull()]"
   ]
  },
  {
   "cell_type": "code",
   "execution_count": 15,
   "metadata": {
    "colab": {
     "autoexec": {
      "startup": false,
      "wait_interval": 0
     }
    },
    "colab_type": "code",
    "collapsed": true,
    "id": "xl41AKDJ1E-V"
   },
   "outputs": [],
   "source": [
    "# One hot encoded features\n",
    "df = df.join(pd.get_dummies(df['Formation']))\n",
    "df = df.join(pd.get_dummies(df['OffenseTeam'], prefix = 'Offense'))\n",
    "df = df.join(pd.get_dummies(df['DefenseTeam'], prefix = 'Defense'))\n",
    "df = df.join(pd.get_dummies(df['PlayType']))\n",
    "df = df.join(pd.get_dummies(df['PassType']))\n",
    "# df = df.join(pd.get_dummies(df['Conversion', prefix = 'Conversion']))"
   ]
  },
  {
   "cell_type": "code",
   "execution_count": 16,
   "metadata": {
    "colab": {
     "autoexec": {
      "startup": false,
      "wait_interval": 0
     }
    },
    "colab_type": "code",
    "collapsed": false,
    "id": "6DOMvHwbZthV"
   },
   "outputs": [],
   "source": [
    "df = df.drop(columns=['OffenseTeam', 'DefenseTeam', 'Formation', 'PlayType', 'PassType', 'Yards'])"
   ]
  },
  {
   "cell_type": "code",
   "execution_count": 17,
   "metadata": {
    "colab": {
     "autoexec": {
      "startup": false,
      "wait_interval": 0
     },
     "base_uri": "https://localhost:8080/",
     "height": 357,
     "output_extras": [
      {
       "item_id": 1
      }
     ]
    },
    "colab_type": "code",
    "collapsed": false,
    "executionInfo": {
     "elapsed": 367,
     "status": "ok",
     "timestamp": 1521321418686,
     "user": {
      "displayName": "Cody Hsieh",
      "photoUrl": "//lh5.googleusercontent.com/-TVXgOXWEKZc/AAAAAAAAAAI/AAAAAAAAVho/LzQvsfbkb04/s50-c-k-no/photo.jpg",
      "userId": "100759277614198067096"
     },
     "user_tz": 420
    },
    "id": "Egrp7R3NfyIl",
    "outputId": "566263e4-0bbe-4efd-b72f-6d16ba4636fc"
   },
   "outputs": [
    {
     "data": {
      "text/plain": [
       "Index(['Quarter', 'Minute', 'Second', 'Down', 'ToGo', 'YardLine', 'IsRush',\n",
       "       'IsPass', 'Conversion', 'NO HUDDLE', 'NO HUDDLE SHOTGUN', 'SHOTGUN',\n",
       "       'UNDER CENTER', 'Offense_ARI', 'Offense_ATL', 'Offense_BAL',\n",
       "       'Offense_BUF', 'Offense_CAR', 'Offense_CHI', 'Offense_CIN',\n",
       "       'Offense_CLE', 'Offense_DAL', 'Offense_DEN', 'Offense_DET',\n",
       "       'Offense_GB', 'Offense_HOU', 'Offense_IND', 'Offense_JAX', 'Offense_KC',\n",
       "       'Offense_LA', 'Offense_MIA', 'Offense_MIN', 'Offense_NE', 'Offense_NO',\n",
       "       'Offense_NYG', 'Offense_NYJ', 'Offense_OAK', 'Offense_PHI',\n",
       "       'Offense_PIT', 'Offense_SD', 'Offense_SEA', 'Offense_SF', 'Offense_TB',\n",
       "       'Offense_TEN', 'Offense_WAS', 'Defense_ARI', 'Defense_ATL',\n",
       "       'Defense_BAL', 'Defense_BUF', 'Defense_CAR', 'Defense_CHI',\n",
       "       'Defense_CIN', 'Defense_CLE', 'Defense_DAL', 'Defense_DEN',\n",
       "       'Defense_DET', 'Defense_GB', 'Defense_HOU', 'Defense_IND',\n",
       "       'Defense_JAX', 'Defense_KC', 'Defense_LA', 'Defense_MIA', 'Defense_MIN',\n",
       "       'Defense_NE', 'Defense_NO', 'Defense_NYG', 'Defense_NYJ', 'Defense_OAK',\n",
       "       'Defense_PHI', 'Defense_PIT', 'Defense_SD', 'Defense_SEA', 'Defense_SF',\n",
       "       'Defense_TB', 'Defense_TEN', 'Defense_WAS', 'PASS', 'DEEP LEFT',\n",
       "       'DEEP MIDDLE', 'DEEP RIGHT', 'SHORT LEFT', 'SHORT MIDDLE',\n",
       "       'SHORT RIGHT'],\n",
       "      dtype='object')"
      ]
     },
     "execution_count": 17,
     "metadata": {},
     "output_type": "execute_result"
    }
   ],
   "source": [
    "df.columns"
   ]
  },
  {
   "cell_type": "code",
   "execution_count": 18,
   "metadata": {
    "colab": {
     "autoexec": {
      "startup": false,
      "wait_interval": 0
     },
     "base_uri": "https://localhost:8080/",
     "height": 1071,
     "output_extras": [
      {
       "item_id": 1
      }
     ]
    },
    "colab_type": "code",
    "collapsed": false,
    "executionInfo": {
     "elapsed": 455,
     "status": "ok",
     "timestamp": 1521321419597,
     "user": {
      "displayName": "Cody Hsieh",
      "photoUrl": "//lh5.googleusercontent.com/-TVXgOXWEKZc/AAAAAAAAAAI/AAAAAAAAVho/LzQvsfbkb04/s50-c-k-no/photo.jpg",
      "userId": "100759277614198067096"
     },
     "user_tz": 420
    },
    "id": "r4vET2TI1E-m",
    "outputId": "19c137be-0cc3-4b1a-e87e-460b4bccefbe"
   },
   "outputs": [
    {
     "data": {
      "text/plain": [
       "Quarter               2\n",
       "Minute                1\n",
       "Second               26\n",
       "Down                  3\n",
       "ToGo                  4\n",
       "YardLine             53\n",
       "IsRush                0\n",
       "IsPass                1\n",
       "Conversion            0\n",
       "NO HUDDLE             0\n",
       "NO HUDDLE SHOTGUN     0\n",
       "SHOTGUN               1\n",
       "UNDER CENTER          0\n",
       "Offense_ARI           0\n",
       "Offense_ATL           0\n",
       "Offense_BAL           0\n",
       "Offense_BUF           0\n",
       "Offense_CAR           0\n",
       "Offense_CHI           0\n",
       "Offense_CIN           0\n",
       "Offense_CLE           0\n",
       "Offense_DAL           0\n",
       "Offense_DEN           0\n",
       "Offense_DET           0\n",
       "Offense_GB            0\n",
       "Offense_HOU           0\n",
       "Offense_IND           0\n",
       "Offense_JAX           0\n",
       "Offense_KC            0\n",
       "Offense_LA            0\n",
       "                     ..\n",
       "Defense_DEN           0\n",
       "Defense_DET           0\n",
       "Defense_GB            0\n",
       "Defense_HOU           0\n",
       "Defense_IND           0\n",
       "Defense_JAX           0\n",
       "Defense_KC            0\n",
       "Defense_LA            0\n",
       "Defense_MIA           0\n",
       "Defense_MIN           0\n",
       "Defense_NE            0\n",
       "Defense_NO            0\n",
       "Defense_NYG           0\n",
       "Defense_NYJ           0\n",
       "Defense_OAK           1\n",
       "Defense_PHI           0\n",
       "Defense_PIT           0\n",
       "Defense_SD            0\n",
       "Defense_SEA           0\n",
       "Defense_SF            0\n",
       "Defense_TB            0\n",
       "Defense_TEN           0\n",
       "Defense_WAS           0\n",
       "PASS                  1\n",
       "DEEP LEFT             1\n",
       "DEEP MIDDLE           0\n",
       "DEEP RIGHT            0\n",
       "SHORT LEFT            0\n",
       "SHORT MIDDLE          0\n",
       "SHORT RIGHT           0\n",
       "Name: 16, Length: 84, dtype: int64"
      ]
     },
     "execution_count": 18,
     "metadata": {},
     "output_type": "execute_result"
    }
   ],
   "source": [
    "df.iloc[0]"
   ]
  },
  {
   "cell_type": "markdown",
   "metadata": {
    "colab_type": "text",
    "id": "8S4ld1NW1E_I"
   },
   "source": [
    "## Model Training & Validation"
   ]
  },
  {
   "cell_type": "code",
   "execution_count": 19,
   "metadata": {
    "colab": {
     "autoexec": {
      "startup": false,
      "wait_interval": 0
     }
    },
    "colab_type": "code",
    "collapsed": true,
    "id": "fB6acx-j1E_J"
   },
   "outputs": [],
   "source": [
    "conversion_labels = df.pop('Conversion').as_matrix()\n",
    "data_mat = df.as_matrix()"
   ]
  },
  {
   "cell_type": "code",
   "execution_count": 20,
   "metadata": {
    "colab": {
     "autoexec": {
      "startup": false,
      "wait_interval": 0
     },
     "base_uri": "https://localhost:8080/",
     "height": 340,
     "output_extras": [
      {
       "item_id": 1
      }
     ]
    },
    "colab_type": "code",
    "collapsed": false,
    "executionInfo": {
     "elapsed": 830,
     "status": "ok",
     "timestamp": 1521321422254,
     "user": {
      "displayName": "Cody Hsieh",
      "photoUrl": "//lh5.googleusercontent.com/-TVXgOXWEKZc/AAAAAAAAAAI/AAAAAAAAVho/LzQvsfbkb04/s50-c-k-no/photo.jpg",
      "userId": "100759277614198067096"
     },
     "user_tz": 420
    },
    "id": "QcSQWBiO2IL6",
    "outputId": "b9abd785-a602-4f44-ddfc-53f917eb4d8d"
   },
   "outputs": [
    {
     "data": {
      "text/plain": [
       "Index(['Quarter', 'Minute', 'Second', 'Down', 'ToGo', 'YardLine', 'IsRush',\n",
       "       'IsPass', 'NO HUDDLE', 'NO HUDDLE SHOTGUN', 'SHOTGUN', 'UNDER CENTER',\n",
       "       'Offense_ARI', 'Offense_ATL', 'Offense_BAL', 'Offense_BUF',\n",
       "       'Offense_CAR', 'Offense_CHI', 'Offense_CIN', 'Offense_CLE',\n",
       "       'Offense_DAL', 'Offense_DEN', 'Offense_DET', 'Offense_GB',\n",
       "       'Offense_HOU', 'Offense_IND', 'Offense_JAX', 'Offense_KC', 'Offense_LA',\n",
       "       'Offense_MIA', 'Offense_MIN', 'Offense_NE', 'Offense_NO', 'Offense_NYG',\n",
       "       'Offense_NYJ', 'Offense_OAK', 'Offense_PHI', 'Offense_PIT',\n",
       "       'Offense_SD', 'Offense_SEA', 'Offense_SF', 'Offense_TB', 'Offense_TEN',\n",
       "       'Offense_WAS', 'Defense_ARI', 'Defense_ATL', 'Defense_BAL',\n",
       "       'Defense_BUF', 'Defense_CAR', 'Defense_CHI', 'Defense_CIN',\n",
       "       'Defense_CLE', 'Defense_DAL', 'Defense_DEN', 'Defense_DET',\n",
       "       'Defense_GB', 'Defense_HOU', 'Defense_IND', 'Defense_JAX', 'Defense_KC',\n",
       "       'Defense_LA', 'Defense_MIA', 'Defense_MIN', 'Defense_NE', 'Defense_NO',\n",
       "       'Defense_NYG', 'Defense_NYJ', 'Defense_OAK', 'Defense_PHI',\n",
       "       'Defense_PIT', 'Defense_SD', 'Defense_SEA', 'Defense_SF', 'Defense_TB',\n",
       "       'Defense_TEN', 'Defense_WAS', 'PASS', 'DEEP LEFT', 'DEEP MIDDLE',\n",
       "       'DEEP RIGHT', 'SHORT LEFT', 'SHORT MIDDLE', 'SHORT RIGHT'],\n",
       "      dtype='object')"
      ]
     },
     "execution_count": 20,
     "metadata": {},
     "output_type": "execute_result"
    }
   ],
   "source": [
    "df.columns"
   ]
  },
  {
   "cell_type": "code",
   "execution_count": 21,
   "metadata": {
    "colab": {
     "autoexec": {
      "startup": false,
      "wait_interval": 0
     }
    },
    "colab_type": "code",
    "collapsed": true,
    "id": "SIYw48Y41E_M"
   },
   "outputs": [],
   "source": [
    "X_train, X_test, y_train, y_test = train_test_split(data_mat, conversion_labels, test_size=0.33, random_state=42)"
   ]
  },
  {
   "cell_type": "code",
   "execution_count": 22,
   "metadata": {
    "colab": {
     "autoexec": {
      "startup": false,
      "wait_interval": 0
     },
     "base_uri": "https://localhost:8080/",
     "height": 34,
     "output_extras": [
      {
       "item_id": 1
      }
     ]
    },
    "colab_type": "code",
    "collapsed": false,
    "executionInfo": {
     "elapsed": 742,
     "status": "ok",
     "timestamp": 1521321425554,
     "user": {
      "displayName": "Cody Hsieh",
      "photoUrl": "//lh5.googleusercontent.com/-TVXgOXWEKZc/AAAAAAAAAAI/AAAAAAAAVho/LzQvsfbkb04/s50-c-k-no/photo.jpg",
      "userId": "100759277614198067096"
     },
     "user_tz": 420
    },
    "id": "ziMs59fc1E_S",
    "outputId": "b5f8c35e-ac5f-4726-ef74-d2999606ff75"
   },
   "outputs": [
    {
     "name": "stdout",
     "output_type": "stream",
     "text": [
      "0.4110535405872193\n"
     ]
    }
   ],
   "source": [
    "print(sum(y_test)/len(y_test))\n",
    "from sklearn.decomposition import PCA\n",
    "# Make an instance of the Model\n",
    "pca = PCA(.99)\n",
    "\n",
    "pca.fit(X_train)\n",
    "X_train = pca.transform(X_train)\n",
    "X_test = pca.transform(X_test)"
   ]
  },
  {
   "cell_type": "code",
   "execution_count": 23,
   "metadata": {
    "colab": {
     "autoexec": {
      "startup": false,
      "wait_interval": 0
     }
    },
    "colab_type": "code",
    "collapsed": true,
    "id": "S6DFUesg1E_Z"
   },
   "outputs": [],
   "source": [
    "class BortlesModel:\n",
    "    def __init__(self, input_dimension, learning_rate=0.5):\n",
    "        self.learning_rate = learning_rate\n",
    "        self.weight_path = 'bortles_weights.csv'\n",
    "        self.bias_path = 'bortles_bias.csv'\n",
    "        self.construct_model(input_dimension)\n",
    "    \n",
    "    def construct_model(self, input_dimension):\n",
    "        self.input_data = tf.placeholder(tf.float32, (None, input_dimension))\n",
    "        self.labels = tf.placeholder(tf.int32, (None,))\n",
    "        self.weights = tf.Variable(tf.random_normal((input_dimension, 2)))\n",
    "        self.bias = tf.Variable(tf.random_normal((2,)))\n",
    "        \n",
    "        self.output = tf.matmul(self.input_data, self.weights) + self.bias\n",
    "\n",
    "        # Cross Entropy\n",
    "        self.cost = tf.reduce_mean(\n",
    "            tf.nn.sparse_softmax_cross_entropy_with_logits(labels=self.labels, logits=self.output))\n",
    "        \n",
    "        self.optimizer = tf.train.GradientDescentOptimizer(self.learning_rate).minimize(self.cost)\n",
    "    \n",
    "    def train_model(self, train_data, train_labels, num_iter=1000, use_stored_params=False):\n",
    "        if use_stored_params:\n",
    "            weights = np.loadtxt(self.weight_path)\n",
    "            bias = np.loadtxt(self.bias_path)\n",
    "            tf.assign(self.weights, weights)\n",
    "            tf.assign(self.bias, bias)\n",
    "        init = tf.global_variables_initializer()\n",
    "        losses = []\n",
    "        \n",
    "        with tf.Session() as sess:\n",
    "            # Initialize the variables.\n",
    "            sess.run(init)\n",
    "            \n",
    "            for i in range(num_iter):\n",
    "                _, loss_val = sess.run([self.optimizer, self.cost], feed_dict={self.input_data: train_data, self.labels: train_labels})\n",
    "                losses.append(loss_val)\n",
    "                if i % 100 == 0:\n",
    "                    print(i)\n",
    "                    print(loss_val)\n",
    "            \n",
    "            weights = sess.run(self.weights)\n",
    "            bias = sess.run(self.bias)\n",
    "        \n",
    "        return np.array(losses), weights, bias\n",
    "    \n",
    "    def apply_model(self, weights, bias, data, labels):\n",
    "        init = tf.global_variables_initializer()\n",
    "        with tf.Session() as sess:\n",
    "            sess.run(init)\n",
    "            \n",
    "            logits = sess.run(self.output, feed_dict={self.input_data: data, self.labels: labels, self.weights: weights, self.bias: bias})\n",
    "            pred_labels = sess.run(tf.argmax(logits, 1))\n",
    "        \n",
    "        return pred_labels\n",
    "    \n",
    "    def store_weights_and_bias(self, weights, bias):\n",
    "        np.savetxt(self.weight_path, weights)\n",
    "        np.savetxt(self.bias_path, bias)"
   ]
  },
  {
   "cell_type": "code",
   "execution_count": 24,
   "metadata": {
    "colab": {
     "autoexec": {
      "startup": false,
      "wait_interval": 0
     }
    },
    "colab_type": "code",
    "collapsed": true,
    "id": "LtAETLot1E_c"
   },
   "outputs": [],
   "source": [
    "bortles = BortlesModel(input_dimension=X_train.shape[1], learning_rate=0.005)"
   ]
  },
  {
   "cell_type": "code",
   "execution_count": 26,
   "metadata": {
    "colab": {
     "autoexec": {
      "startup": false,
      "wait_interval": 0
     },
     "base_uri": "https://localhost:8080/",
     "height": 6817,
     "output_extras": [
      {
       "item_id": 77
      },
      {
       "item_id": 97
      }
     ]
    },
    "colab_type": "code",
    "collapsed": false,
    "executionInfo": {
     "elapsed": 36549,
     "status": "ok",
     "timestamp": 1521321464838,
     "user": {
      "displayName": "Cody Hsieh",
      "photoUrl": "//lh5.googleusercontent.com/-TVXgOXWEKZc/AAAAAAAAAAI/AAAAAAAAVho/LzQvsfbkb04/s50-c-k-no/photo.jpg",
      "userId": "100759277614198067096"
     },
     "user_tz": 420
    },
    "id": "onSty-Gc1E_g",
    "outputId": "5703bcec-57db-41af-86a6-966fb3d99354"
   },
   "outputs": [
    {
     "name": "stdout",
     "output_type": "stream",
     "text": [
      "0\n",
      "34.93094\n",
      "100\n",
      "0.71141565\n",
      "200\n",
      "0.6813642\n",
      "300\n",
      "0.66675013\n",
      "400\n",
      "0.6559036\n",
      "500\n",
      "0.64803123\n",
      "600\n",
      "0.64243126\n",
      "700\n",
      "0.6385136\n",
      "800\n",
      "0.6358087\n",
      "900\n",
      "0.63396096\n",
      "1000\n",
      "0.6327087\n",
      "1100\n",
      "0.6318661\n",
      "1200\n",
      "0.6313021\n",
      "1300\n",
      "0.63092613\n",
      "1400\n",
      "0.6306758\n",
      "1500\n",
      "0.63051015\n",
      "1600\n",
      "0.6304005\n",
      "1700\n",
      "0.6303281\n",
      "1800\n",
      "0.6302805\n",
      "1900\n",
      "0.63024914\n",
      "2000\n",
      "0.6302283\n",
      "2100\n",
      "0.6302146\n",
      "2200\n",
      "0.6302058\n",
      "2300\n",
      "0.63019985\n",
      "2400\n",
      "0.6301961\n",
      "2500\n",
      "0.63019353\n",
      "2600\n",
      "0.6301915\n",
      "2700\n",
      "0.63019085\n",
      "2800\n",
      "0.63019013\n",
      "2900\n",
      "0.6301894\n",
      "3000\n",
      "0.63018936\n",
      "3100\n",
      "0.6301889\n",
      "3200\n",
      "0.630189\n",
      "3300\n",
      "0.6301891\n",
      "3400\n",
      "0.6301889\n",
      "3500\n",
      "0.6301888\n",
      "3600\n",
      "0.6301888\n",
      "3700\n",
      "0.6301887\n",
      "3800\n",
      "0.63018847\n",
      "3900\n",
      "0.6301886\n",
      "4000\n",
      "0.6301887\n",
      "4100\n",
      "0.6301887\n",
      "4200\n",
      "0.6301886\n",
      "4300\n",
      "0.6301886\n",
      "4400\n",
      "0.63018876\n",
      "4500\n",
      "0.63018876\n",
      "4600\n",
      "0.6301889\n",
      "4700\n",
      "0.6301889\n",
      "4800\n",
      "0.63018876\n",
      "4900\n",
      "0.63018847\n"
     ]
    }
   ],
   "source": [
    "loss, weights, bias = bortles.train_model(X_train, y_train, num_iter=5000)"
   ]
  },
  {
   "cell_type": "code",
   "execution_count": 27,
   "metadata": {
    "colab": {
     "autoexec": {
      "startup": false,
      "wait_interval": 0
     },
     "base_uri": "https://localhost:8080/",
     "height": 283,
     "output_extras": [
      {
       "item_id": 1
      },
      {
       "item_id": 2
      }
     ]
    },
    "colab_type": "code",
    "collapsed": false,
    "executionInfo": {
     "elapsed": 631,
     "status": "ok",
     "timestamp": 1521321465542,
     "user": {
      "displayName": "Cody Hsieh",
      "photoUrl": "//lh5.googleusercontent.com/-TVXgOXWEKZc/AAAAAAAAAAI/AAAAAAAAVho/LzQvsfbkb04/s50-c-k-no/photo.jpg",
      "userId": "100759277614198067096"
     },
     "user_tz": 420
    },
    "id": "matkws2_1E_k",
    "outputId": "bead4686-2bab-40d9-aa52-60de3563953b"
   },
   "outputs": [
    {
     "data": {
      "text/plain": [
       "[<matplotlib.lines.Line2D at 0x1225677f0>]"
      ]
     },
     "execution_count": 27,
     "metadata": {},
     "output_type": "execute_result"
    },
    {
     "data": {
      "image/png": "[encoded data removed]",
      "text/plain": [
       "<matplotlib.figure.Figure at 0x1073385c0>"
      ]
     },
     "metadata": {},
     "output_type": "display_data"
    }
   ],
   "source": [
    "plt.plot(loss)"
   ]
  },
  {
   "cell_type": "code",
   "execution_count": 28,
   "metadata": {
    "colab": {
     "autoexec": {
      "startup": false,
      "wait_interval": 0
     }
    },
    "colab_type": "code",
    "collapsed": true,
    "id": "pgG-7OYO1E_m"
   },
   "outputs": [],
   "source": [
    "# Store model weights\n",
    "bortles.store_weights_and_bias(weights, bias)"
   ]
  },
  {
   "cell_type": "code",
   "execution_count": 29,
   "metadata": {
    "colab": {
     "autoexec": {
      "startup": false,
      "wait_interval": 0
     }
    },
    "colab_type": "code",
    "collapsed": true,
    "id": "yrLt2IcW1E_q"
   },
   "outputs": [],
   "source": [
    "### ONLY RUN IF weights and bias stored from previous run\n",
    "# loss, weights, bias = bortles.train_model(X_train, y_train, num_iter=200, use_stored_params=True)"
   ]
  },
  {
   "cell_type": "code",
   "execution_count": 30,
   "metadata": {
    "colab": {
     "autoexec": {
      "startup": false,
      "wait_interval": 0
     }
    },
    "colab_type": "code",
    "collapsed": true,
    "id": "3nrbqhW51E_s"
   },
   "outputs": [],
   "source": [
    "# Apply model and see training error\n",
    "pred_labels = bortles.apply_model(data=X_train, labels=y_train, weights=weights, bias=bias)"
   ]
  },
  {
   "cell_type": "code",
   "execution_count": 31,
   "metadata": {
    "colab": {
     "autoexec": {
      "startup": false,
      "wait_interval": 0
     },
     "base_uri": "https://localhost:8080/",
     "height": 34,
     "output_extras": [
      {
       "item_id": 1
      }
     ]
    },
    "colab_type": "code",
    "collapsed": false,
    "executionInfo": {
     "elapsed": 461,
     "status": "ok",
     "timestamp": 1521321468891,
     "user": {
      "displayName": "Cody Hsieh",
      "photoUrl": "//lh5.googleusercontent.com/-TVXgOXWEKZc/AAAAAAAAAAI/AAAAAAAAVho/LzQvsfbkb04/s50-c-k-no/photo.jpg",
      "userId": "100759277614198067096"
     },
     "user_tz": 420
    },
    "id": "zGBOBNOf1E_v",
    "outputId": "d6e898d4-3683-4f99-9b81-e4a80b43765a"
   },
   "outputs": [
    {
     "name": "stdout",
     "output_type": "stream",
     "text": [
      "Training Error: 0.6288308740068105\n"
     ]
    }
   ],
   "source": [
    "# See training error\n",
    "num_match = 0\n",
    "for i in range(len(y_train)):\n",
    "    if y_train[i] == pred_labels[i]:\n",
    "        num_match += 1\n",
    "\n",
    "print('Training Error:', num_match / len(y_train))"
   ]
  },
  {
   "cell_type": "code",
   "execution_count": 32,
   "metadata": {
    "colab": {
     "autoexec": {
      "startup": false,
      "wait_interval": 0
     },
     "base_uri": "https://localhost:8080/",
     "height": 34,
     "output_extras": [
      {
       "item_id": 1
      }
     ]
    },
    "colab_type": "code",
    "collapsed": false,
    "executionInfo": {
     "elapsed": 388,
     "status": "ok",
     "timestamp": 1521321470259,
     "user": {
      "displayName": "Cody Hsieh",
      "photoUrl": "//lh5.googleusercontent.com/-TVXgOXWEKZc/AAAAAAAAAAI/AAAAAAAAVho/LzQvsfbkb04/s50-c-k-no/photo.jpg",
      "userId": "100759277614198067096"
     },
     "user_tz": 420
    },
    "id": "K5iR-JcIsJFz",
    "outputId": "34e04bda-5842-4e5c-8d4a-f615238a92a5"
   },
   "outputs": [
    {
     "name": "stdout",
     "output_type": "stream",
     "text": [
      "Test Error: 0.6229130685089235\n"
     ]
    }
   ],
   "source": [
    "pred_labels_test = bortles.apply_model(data=X_test, labels=y_test, weights=weights, bias=bias)\n",
    "# See test error\n",
    "num_match = 0\n",
    "for i in range(len(y_test)):\n",
    "    if y_test[i] == pred_labels_test[i]:\n",
    "        num_match += 1\n",
    "\n",
    "print('Test Error:', num_match / len(y_test))"
   ]
  },
  {
   "cell_type": "code",
   "execution_count": 0,
   "metadata": {
    "colab": {
     "autoexec": {
      "startup": false,
      "wait_interval": 0
     }
    },
    "colab_type": "code",
    "collapsed": true,
    "id": "WbNTvzJCyOw3"
   },
   "outputs": [],
   "source": []
  }
 ],
 "metadata": {
  "accelerator": "GPU",
  "colab": {
   "default_view": {},
   "name": "experiment.ipynb",
   "provenance": [],
   "version": "0.3.2",
   "views": {}
  },
  "kernelspec": {
   "display_name": "Python 3",
   "language": "python",
   "name": "python3"
  },
  "language_info": {
   "codemirror_mode": {
    "name": "ipython",
    "version": 3
   },
   "file_extension": ".py",
   "mimetype": "text/x-python",
   "name": "python",
   "nbconvert_exporter": "python",
   "pygments_lexer": "ipython3",
   "version": "3.5.1"
  }
 },
 "nbformat": 4,
 "nbformat_minor": 0
}
